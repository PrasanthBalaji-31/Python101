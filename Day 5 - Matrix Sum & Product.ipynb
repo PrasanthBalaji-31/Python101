{
  "nbformat": 4,
  "nbformat_minor": 0,
  "metadata": {
    "colab": {
      "name": "Matrix.ipynb",
      "provenance": []
    },
    "kernelspec": {
      "name": "python3",
      "display_name": "Python 3"
    },
    "language_info": {
      "name": "python"
    }
  },
  "cells": [
    {
      "cell_type": "markdown",
      "source": [
        "### [ 1 ] Sum of two ( 3 x 3 ) matrix\n",
        "---"
      ],
      "metadata": {
        "id": "7e_dIRsf_gE_"
      }
    },
    {
      "cell_type": "code",
      "source": [
        "import random"
      ],
      "metadata": {
        "id": "eCfR30-IP4L4"
      },
      "execution_count": 1,
      "outputs": []
    },
    {
      "cell_type": "code",
      "source": [
        "a1 = [[random.randrange(1,5) for n in range(3)] for n in range(3)]\n",
        "b1 = [[random.randrange(1,4) for n in range(3)] for n in range(3)]"
      ],
      "metadata": {
        "id": "jl4e3ZoyPT74"
      },
      "execution_count": 6,
      "outputs": []
    },
    {
      "cell_type": "code",
      "source": [
        "def printmat(mat):\n",
        "  for i in range(len(mat)):\n",
        "    mat[i] = [str(n) for n in mat[i]]\n",
        "    print(f\"| {' '.join(mat[i])} |\")\n",
        "  return ''"
      ],
      "metadata": {
        "id": "7SAf2D3cQXyD"
      },
      "execution_count": 7,
      "outputs": []
    },
    {
      "cell_type": "code",
      "source": [
        "def matsum(a,b):\n",
        "  width = len(a[0])\n",
        "  height = len(a)\n",
        "  sum = [[   ],\n",
        "         [   ],\n",
        "         [   ]]\n",
        "  for i in range(height):\n",
        "    for j in range(width):\n",
        "      sum[i].append(a[i][j] + b[i][j])\n",
        "\n",
        "  print('a1 => '), \n",
        "  print(printmat(a)), \n",
        "  print('b1 => ')\n",
        "  print(printmat(b))\n",
        "  print('Sum => ')\n",
        "  print(printmat(sum))\n",
        "\n",
        "matsum(a1, b1)"
      ],
      "metadata": {
        "colab": {
          "base_uri": "https://localhost:8080/"
        },
        "id": "ayFHvp7UO3TS",
        "outputId": "0b598f24-0982-4099-cb05-fffdfdb831a1"
      },
      "execution_count": 8,
      "outputs": [
        {
          "output_type": "stream",
          "name": "stdout",
          "text": [
            "a1 => \n",
            "| 3 4 2 |\n",
            "| 2 3 2 |\n",
            "| 1 3 1 |\n",
            "\n",
            "b1 => \n",
            "| 1 2 2 |\n",
            "| 3 1 2 |\n",
            "| 1 1 3 |\n",
            "\n",
            "Sum => \n",
            "| 4 6 4 |\n",
            "| 5 4 4 |\n",
            "| 2 4 4 |\n",
            "\n"
          ]
        }
      ]
    },
    {
      "cell_type": "markdown",
      "source": [
        "### [ 2 ] Product of two ( 3 x 3 ) Matrix\n",
        "---"
      ],
      "metadata": {
        "id": "TipwAiCt_vvK"
      }
    },
    {
      "cell_type": "code",
      "source": [
        "a1 = [[random.randrange(1,5) for n in range(3)] for n in range(3)]\n",
        "b1 = [[random.randrange(1,4) for n in range(3)] for n in range(3)]"
      ],
      "metadata": {
        "id": "vBe85ATy-_tx"
      },
      "execution_count": 15,
      "outputs": []
    },
    {
      "cell_type": "code",
      "source": [
        "height = len(a1)\n",
        "width = len(a1[0])"
      ],
      "metadata": {
        "id": "0j0_VN_p_7mx"
      },
      "execution_count": 16,
      "outputs": []
    },
    {
      "cell_type": "code",
      "source": [
        "def matprod(a, b):\n",
        "  prod = [[   ],\n",
        "          [   ],\n",
        "          [   ]]\n",
        "  for row in range(len(a)):\n",
        "    for col in range(len(b)):\n",
        "      prod[row].append(a[row][col] * b[col][row])\n",
        "  return prod"
      ],
      "metadata": {
        "id": "BAT7ts1VAPmG"
      },
      "execution_count": 22,
      "outputs": []
    },
    {
      "cell_type": "code",
      "source": [
        "print('a1 => ')\n",
        "for i in a1:  print(i)\n",
        "print('\\nb1 => ')\n",
        "for i in b1:  print(i)\n",
        "print('\\nProduct => ')\n",
        "for i in matprod(a1,b1):  print(i)"
      ],
      "metadata": {
        "colab": {
          "base_uri": "https://localhost:8080/"
        },
        "id": "KbZiMGRhAILQ",
        "outputId": "3924768c-2dc9-44ef-9e13-bc53e7d84459"
      },
      "execution_count": 24,
      "outputs": [
        {
          "output_type": "stream",
          "name": "stdout",
          "text": [
            "a1 => \n",
            "[2, 1, 1]\n",
            "[3, 3, 2]\n",
            "[1, 2, 2]\n",
            "\n",
            "b1 => \n",
            "[1, 2, 3]\n",
            "[2, 1, 1]\n",
            "[1, 3, 3]\n",
            "\n",
            "Product => \n",
            "[2, 2, 1]\n",
            "[6, 3, 6]\n",
            "[3, 2, 6]\n"
          ]
        }
      ]
    }
  ]
}