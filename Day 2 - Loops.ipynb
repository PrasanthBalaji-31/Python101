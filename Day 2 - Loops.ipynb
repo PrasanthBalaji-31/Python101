{
  "nbformat": 4,
  "nbformat_minor": 0,
  "metadata": {
    "colab": {
      "name": "Loops - 18.01.2022.ipynb",
      "provenance": [],
      "collapsed_sections": []
    },
    "kernelspec": {
      "name": "python3",
      "display_name": "Python 3"
    },
    "language_info": {
      "name": "python"
    }
  },
  "cells": [
    {
      "cell_type": "markdown",
      "source": [
        "### [ 1 ] Sum of n Numbers\n",
        "---"
      ],
      "metadata": {
        "id": "89bDqfNR968X"
      }
    },
    {
      "cell_type": "code",
      "execution_count": null,
      "metadata": {
        "colab": {
          "base_uri": "https://localhost:8080/"
        },
        "id": "ueJKg40d9uiQ",
        "outputId": "80197a14-0bbf-4af2-9393-53c3b39d40ba"
      },
      "outputs": [
        {
          "output_type": "stream",
          "name": "stdout",
          "text": [
            "Enter the n Number : 5\n",
            "Step [1] : 0 + 0 = 0\n",
            "Step [2] : 0 + 1 = 1\n",
            "Step [3] : 1 + 2 = 3\n",
            "Step [4] : 3 + 3 = 6\n",
            "Step [5] : 6 + 4 = 10\n",
            "Step [6] : 10 + 5 = 15\n",
            "Sum of n Numbers (where n is 5) : 15\n"
          ]
        }
      ],
      "source": [
        "n = int(input('Enter the n Number : '))\n",
        "sum = 0\n",
        "for num in range(n+1):\n",
        "  print(f'Step [{num+1}] : {sum} + {num} = {sum+num}')\n",
        "  sum += num\n",
        "print(f'Sum of n Numbers (where n is {num}) : {sum}')"
      ]
    },
    {
      "cell_type": "markdown",
      "source": [
        "### [ 2 ] Sum of Squares of n Numbers\n",
        "---"
      ],
      "metadata": {
        "id": "30v_3HLZ-Ovt"
      }
    },
    {
      "cell_type": "code",
      "source": [
        "n = int(input('Enter the n Number : '))\n",
        "sum = 0\n",
        "\n",
        "for num in range(n+1):\n",
        "  print(f'Step [{num+1}] : {sum} + ({num} x {num}) = {sum+(num**2)}')\n",
        "  sum += (num**2)\n",
        "print(f'Sum of Square of n Numbers (where n is {num}) : {sum}')\n"
      ],
      "metadata": {
        "id": "1Yjxv-oo-J38",
        "colab": {
          "base_uri": "https://localhost:8080/"
        },
        "outputId": "6f09ec66-dab6-43f0-81eb-5b2c860d7812"
      },
      "execution_count": null,
      "outputs": [
        {
          "output_type": "stream",
          "name": "stdout",
          "text": [
            "Enter the n Number : 5\n",
            "Step [1] : 0 + (0 x 0) = 0\n",
            "Step [2] : 0 + (1 x 1) = 1\n",
            "Step [3] : 1 + (2 x 2) = 5\n",
            "Step [4] : 5 + (3 x 3) = 14\n",
            "Step [5] : 14 + (4 x 4) = 30\n",
            "Step [6] : 30 + (5 x 5) = 55\n",
            "Sum of Square of n Numbers (where n is 5) : 55\n"
          ]
        }
      ]
    },
    {
      "cell_type": "markdown",
      "source": [
        "#### [ 3 ] Fibonacci Series\n",
        "---\n",
        "![](https://www.w3resource.com/w3r_images/python-conditional-image-exercise-9.png)\n"
      ],
      "metadata": {
        "id": "o4dk9_zDY0PL"
      }
    },
    {
      "cell_type": "code",
      "source": [
        "n = int(input('Enter a number : '))\n",
        "\n",
        "default = [0,1]\n",
        "\n",
        "for iter in range(n-2):\n",
        "  default.append(default[-1] + default[-2])\n",
        "  print(f'Step [{iter+1}] : {default}')\n",
        "\n",
        "print(f\"The Fibonacci Series till nth ({n}) position are {' '.join([str(n) for n in default])}\")"
      ],
      "metadata": {
        "colab": {
          "base_uri": "https://localhost:8080/"
        },
        "id": "ONK3ZSmWRpT4",
        "outputId": "8ec981e3-0e81-4538-f98f-16add43968a9"
      },
      "execution_count": null,
      "outputs": [
        {
          "output_type": "stream",
          "name": "stdout",
          "text": [
            "Enter a number : 8\n",
            "Step [1] : [0, 1, 1]\n",
            "Step [2] : [0, 1, 1, 2]\n",
            "Step [3] : [0, 1, 1, 2, 3]\n",
            "Step [4] : [0, 1, 1, 2, 3, 5]\n",
            "Step [5] : [0, 1, 1, 2, 3, 5, 8]\n",
            "Step [6] : [0, 1, 1, 2, 3, 5, 8, 13]\n",
            "The Fibonacci Series till nth (8) position are 0 1 1 2 3 5 8 13\n"
          ]
        }
      ]
    },
    {
      "cell_type": "markdown",
      "source": [
        "#### [ 4 ] Pascal Triangle\n",
        "---\n",
        "![](https://upload.wikimedia.org/wikipedia/commons/0/0d/PascalTriangleAnimated2.gif)\n",
        "\n",
        "\n"
      ],
      "metadata": {
        "id": "Qpy6Kq7UZq58"
      }
    },
    {
      "cell_type": "code",
      "source": [
        "n = int(input('Enter a number : '))\n",
        "\n",
        "default = [[0,1,0]]\n",
        "for idx in range(n):\n",
        "  test = [0]\n",
        "  try:\n",
        "    for i in range(len(default[idx])):\n",
        "      test.append(default[idx][i]+default[idx][i+1])\n",
        "  except:\n",
        "    pass\n",
        "  test.append(0)\n",
        "  default.append(test)\n",
        "\n",
        "for row in default:\n",
        "  print(' '.join([str(n) for n in row if n!= 0]))\n"
      ],
      "metadata": {
        "colab": {
          "base_uri": "https://localhost:8080/"
        },
        "id": "HhNvZypPZdu3",
        "outputId": "15e27851-52c7-426f-c2dc-bc71468120ef"
      },
      "execution_count": null,
      "outputs": [
        {
          "output_type": "stream",
          "name": "stdout",
          "text": [
            "Enter a number : 5\n",
            "1\n",
            "1 1\n",
            "1 2 1\n",
            "1 3 3 1\n",
            "1 4 6 4 1\n",
            "1 5 10 10 5 1\n"
          ]
        }
      ]
    },
    {
      "cell_type": "markdown",
      "source": [
        "#### [ 5 ] Check whether the string is a palindrome or not\n",
        "---\n"
      ],
      "metadata": {
        "id": "MciPtXJSeTv6"
      }
    },
    {
      "cell_type": "code",
      "source": [
        "text = input('Enter a String : ')\n",
        "\n",
        "if text.lower() == text[::-1].lower(): print(f'The given string \"{text}\" is a palindrame')\n",
        "else: print(f'The given string {text} is not a palindrome')"
      ],
      "metadata": {
        "colab": {
          "base_uri": "https://localhost:8080/"
        },
        "id": "1s0WG05RbWvy",
        "outputId": "bac1a34c-1b29-4616-971a-d07428a8dcd0"
      },
      "execution_count": null,
      "outputs": [
        {
          "output_type": "stream",
          "name": "stdout",
          "text": [
            "Enter a String : Radar\n",
            "The given string \"Radar\" is a palindrame\n"
          ]
        }
      ]
    }
  ]
}