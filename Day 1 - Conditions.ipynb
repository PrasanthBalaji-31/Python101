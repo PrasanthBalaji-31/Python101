{
  "nbformat": 4,
  "nbformat_minor": 0,
  "metadata": {
    "colab": {
      "name": "Conditions - 16.01.2022.ipynb",
      "provenance": [],
      "collapsed_sections": []
    },
    "kernelspec": {
      "name": "python3",
      "display_name": "Python 3"
    },
    "language_info": {
      "name": "python"
    }
  },
  "cells": [
    {
      "cell_type": "markdown",
      "source": [
        "### [ 1 ] Maximum of 2 numbers\n",
        "---"
      ],
      "metadata": {
        "id": "89bDqfNR968X"
      }
    },
    {
      "cell_type": "code",
      "execution_count": null,
      "metadata": {
        "colab": {
          "base_uri": "https://localhost:8080/"
        },
        "id": "ueJKg40d9uiQ",
        "outputId": "26b17e0a-e65c-4b12-d24c-03d3b75a895e"
      },
      "outputs": [
        {
          "output_type": "stream",
          "name": "stdout",
          "text": [
            "Enter a Number : 5\n",
            "Enter a Number : 4\n",
            "x => 5 is greater than y => 4\n"
          ]
        },
        {
          "output_type": "execute_result",
          "data": {
            "text/plain": [
              "5"
            ]
          },
          "metadata": {},
          "execution_count": 8
        }
      ],
      "source": [
        "x = int(input('Enter a Number : '))\n",
        "y = int(input('Enter a Number : '))\n",
        "\n",
        "def maxoftwo(x,y):\n",
        "  if x < y:\n",
        "    print(f'y => {y} is greater than x => {x}')\n",
        "    return y\n",
        "  elif x > y:\n",
        "    print(f'x => {x} is greater than y => {y}')\n",
        "    return x\n",
        "  else:\n",
        "    print(f'Both x and y are same {x}')\n",
        "    return x\n",
        "maxoftwo(x,y)"
      ]
    },
    {
      "cell_type": "markdown",
      "source": [
        "### [ 2 ] Maximum of 3 Numbers\n",
        "---"
      ],
      "metadata": {
        "id": "30v_3HLZ-Ovt"
      }
    },
    {
      "cell_type": "code",
      "source": [
        "x = int(input('Enter a Number : ')) \n",
        "y = int(input('Enter a Number : ')) \n",
        "z = int(input('Enter a Number : '))\n",
        "\n",
        "def maxofthree(x,y,z):\n",
        "  if x > y and x > z: print('x is greater', x);  return x\n",
        "  if y > x and y > z: print('y is greater', y);  return y\n",
        "  if z > y and z > x: print('z is greater', z);  return z\n",
        "\n",
        "maxofthree(x,y,z)"
      ],
      "metadata": {
        "id": "1Yjxv-oo-J38",
        "colab": {
          "base_uri": "https://localhost:8080/"
        },
        "outputId": "fe1b09ae-2f53-4c37-8fe6-e898ee87a910"
      },
      "execution_count": null,
      "outputs": [
        {
          "output_type": "stream",
          "name": "stdout",
          "text": [
            "Enter a Number : 5\n",
            "Enter a Number : 4\n",
            "Enter a Number : 6\n",
            "z is greater 6\n"
          ]
        },
        {
          "output_type": "execute_result",
          "data": {
            "text/plain": [
              "6"
            ]
          },
          "metadata": {},
          "execution_count": 21
        }
      ]
    },
    {
      "cell_type": "markdown",
      "source": [
        "#### [ 3 ] Find whether a given number is odd or even\n",
        "---"
      ],
      "metadata": {
        "id": "o4dk9_zDY0PL"
      }
    },
    {
      "cell_type": "code",
      "source": [
        "num = int(input('Enter a Number : '))\n",
        "\n",
        "if num % 2 == 0:  print(f'The number {num} is even')\n",
        "else:  print(f'The number {num} is odd')\n",
        "\n"
      ],
      "metadata": {
        "colab": {
          "base_uri": "https://localhost:8080/"
        },
        "id": "ONK3ZSmWRpT4",
        "outputId": "812ee2f2-7808-4350-d036-630c9e08a416"
      },
      "execution_count": null,
      "outputs": [
        {
          "output_type": "stream",
          "name": "stdout",
          "text": [
            "Enter a Number : 5\n",
            "The number 5 is odd\n"
          ]
        }
      ]
    },
    {
      "cell_type": "markdown",
      "source": [
        "#### [ 4 ] Farenheit to Celcius and Vice Versa\n",
        "---\n",
        "**Conversion Formula**\n",
        "- Farenheit to Celcius => (Temp °F − 32) × 5/9 = 0°C\n",
        "- Celcius to Farenheit => (Temp °C x (9/5)) + 32 = 0°F"
      ],
      "metadata": {
        "id": "Qpy6Kq7UZq58"
      }
    },
    {
      "cell_type": "code",
      "source": [
        "selector = int(input('''Select the conversion operation from the following\n",
        "1) Farenheit to Celcius Conversion\n",
        "2) Celcius to Farenheit Conversion\n",
        "'''))\n",
        "\n",
        "\n",
        "def ftoc(temp):\n",
        "  return (temp - 32) * (5/9)\n",
        "\n",
        "def ctof(temp):\n",
        "  return (temp * (9/5)) + 32\n",
        "\n",
        "\n",
        "if selector == 1:\n",
        "  temp = float(input('Enter a Temperature : '))\n",
        "  print(f'Temperature {temp} F = {ftoc(temp)} °C')\n",
        "elif selector == 2:\n",
        "  temp = float(input('Enter a Temperature : '))\n",
        "  print(f'Temperature {temp} °C = {ctof(temp)} F')\n",
        "else:\n",
        "  print('You have entered a wrong value... Try Again')\n",
        "\n"
      ],
      "metadata": {
        "colab": {
          "base_uri": "https://localhost:8080/"
        },
        "id": "HhNvZypPZdu3",
        "outputId": "f8f6345b-291f-47b1-f977-9591dc1e90ad"
      },
      "execution_count": null,
      "outputs": [
        {
          "output_type": "stream",
          "name": "stdout",
          "text": [
            "Select the conversion operation from the following\n",
            "1) Farenheit to Celcius Conversion\n",
            "2) Celcius to Farenheit Conversion\n",
            "2\n",
            "Enter a Temperature : 25\n",
            "Temperature 25.0 °C = 77.0 F\n"
          ]
        }
      ]
    },
    {
      "cell_type": "markdown",
      "source": [
        "#### [ 5 ] Find whether the given year is Leap Year or Not\n",
        "---\n",
        "Conditions to be met\n",
        "- if (year is not divisible by 4) then (it is a common year)\n",
        "- else if (year is not divisible by 100) then (it is a leap year)\n",
        "- else if (year is not divisible by 400) then (it is a common year)\n",
        "- else (it is a leap year)\n"
      ],
      "metadata": {
        "id": "MciPtXJSeTv6"
      }
    },
    {
      "cell_type": "code",
      "source": [
        "year = int(input('Enter a Year : '))\n",
        "\n",
        "if year % 4 != 0:\n",
        "  print('Not a leap year', year)\n",
        "elif year % 100 != 0:\n",
        "  print('Leap Year', year)\n",
        "elif year % 400 != 0:\n",
        "  print('Not a Leap Year', year)\n",
        "else:\n",
        "  print('Leap Year', year)"
      ],
      "metadata": {
        "colab": {
          "base_uri": "https://localhost:8080/"
        },
        "id": "1s0WG05RbWvy",
        "outputId": "eec14200-f417-4015-925c-da4e5fcc3eb9"
      },
      "execution_count": null,
      "outputs": [
        {
          "output_type": "stream",
          "name": "stdout",
          "text": [
            "Enter a Year : 2200\n",
            "Not a Leap Year 2200\n"
          ]
        }
      ]
    }
  ]
}