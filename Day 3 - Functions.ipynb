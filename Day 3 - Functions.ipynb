{
  "nbformat": 4,
  "nbformat_minor": 0,
  "metadata": {
    "colab": {
      "name": "Functions 19.01.2022.ipynb",
      "provenance": [],
      "collapsed_sections": []
    },
    "kernelspec": {
      "name": "python3",
      "display_name": "Python 3"
    },
    "language_info": {
      "name": "python"
    }
  },
  "cells": [
    {
      "cell_type": "markdown",
      "source": [
        "### [ 1 ] Calculator\n",
        "---"
      ],
      "metadata": {
        "id": "CRWTY0yxYD8U"
      }
    },
    {
      "cell_type": "code",
      "source": [
        "def add(a,b): return a+b\n",
        "def sub(a,b): return a-b\n",
        "def div(a,b): return a/b\n",
        "def mul(a,b): return a*b\n",
        "def power(a,b): return a**b\n",
        "def rem(a,b): return a%b"
      ],
      "metadata": {
        "id": "GnQlM3rBYQcF"
      },
      "execution_count": null,
      "outputs": []
    },
    {
      "cell_type": "code",
      "source": [
        "def calculator():\n",
        "  operation = int(input('''Select the operation to Execute from the following:\n",
        "  1. Addidion\n",
        "  2. Substraction\n",
        "  3. Division\n",
        "  4. Multiplication\n",
        "  5. Power\n",
        "  6. Reminder\n",
        "\n",
        "  Selected Number is ...   '''))\n",
        "\n",
        "  if operation > 0 and operation <= 6:\n",
        "    x = int(input('Enter a number : '))\n",
        "    y = int(input('Enter another number : '))\n",
        "    \n",
        "    if operation == 1:  print(f'addition of {x} and {y} is {add(x,y)}')\n",
        "    if operation == 2:  print(f'Substraction of {x} and {y} is {sub(x,y)}')\n",
        "    if operation == 3:  print(f'Divition of {x} and {y} is {div(x,y)}')\n",
        "    if operation == 4:  print(f'Multiplication of {x} and {y} is {mul(x,y)}')\n",
        "    if operation == 5:  print(f'{x} Power of {y} is {power(x,y)}')\n",
        "    if operation == 6:  print(f'Reminder of {x} divided by {y} is {rem(x,y)}')\n",
        "\n",
        "    cont = input('To continue with a new operation... Y / N : ')\n",
        "    if cont.lower() == 'y':\n",
        "      calculator()\n",
        "    else:\n",
        "      pass\n",
        "  else:\n",
        "    print(\"Error : Selected operation dosen't exists\")\n",
        "    calculator()"
      ],
      "metadata": {
        "id": "KJN8VwS8ZAXu"
      },
      "execution_count": null,
      "outputs": []
    },
    {
      "cell_type": "code",
      "source": [
        "calculator()"
      ],
      "metadata": {
        "colab": {
          "base_uri": "https://localhost:8080/"
        },
        "id": "aaANsP3tZrfD",
        "outputId": "bf1af89b-1df1-4dab-d12d-cf4f60da1948"
      },
      "execution_count": null,
      "outputs": [
        {
          "name": "stdout",
          "output_type": "stream",
          "text": [
            "Select the operation to Execute from the following:\n",
            "  1. Addidion\n",
            "  2. Substraction\n",
            "  3. Division\n",
            "  4. Multiplication\n",
            "  5. Power\n",
            "  6. Reminder\n",
            "\n",
            "  Selected Number is ...   5\n",
            "Enter a number : 1\n",
            "Enter another number : 2\n",
            "1 Power of 2 is 1\n",
            "To continue with a new operation... Y / N : y\n",
            "Select the operation to Execute from the following:\n",
            "  1. Addidion\n",
            "  2. Substraction\n",
            "  3. Division\n",
            "  4. Multiplication\n",
            "  5. Power\n",
            "  6. Reminder\n",
            "\n",
            "  Selected Number is ...   5\n",
            "Enter a number : 4\n",
            "Enter another number : 2\n",
            "4 Power of 2 is 16\n",
            "To continue with a new operation... Y / N : n\n"
          ]
        }
      ]
    },
    {
      "cell_type": "code",
      "source": [
        ""
      ],
      "metadata": {
        "id": "H2CSuhq9diKE"
      },
      "execution_count": null,
      "outputs": []
    },
    {
      "cell_type": "markdown",
      "source": [
        "### [ 2 ] Currency Converter\n",
        "---\n",
        "\n"
      ],
      "metadata": {
        "id": "Ygg7GE_dcnpq"
      }
    },
    {
      "cell_type": "code",
      "source": [
        "inr = {'INR' : 1, 'USD' : 0.013389564, 'EUR' : 0.011821844, 'GBP' : 0.0098471035, 'AUD' : 0.018634442, 'CAD' : 0.016743226, 'SGD' : 0.018085451}"
      ],
      "metadata": {
        "id": "Q3jOBQMncW_J"
      },
      "execution_count": null,
      "outputs": []
    },
    {
      "cell_type": "code",
      "source": [
        "def pairSelector():\n",
        "  basecurr = input('Select the base currency from the Symbols to convert from : ')\n",
        "  if basecurr in inr:\n",
        "    paircurr = input(f'Select the pair currency from the Symbols to convert to from {basecurr} : ')\n",
        "    if paircurr in inr:\n",
        "      print(f'Your Selected Pair is {basecurr} to {paircurr}')\n",
        "      return (basecurr, paircurr)\n",
        "    else:\n",
        "      print(\"Error : The given Symbol doen't Exists, Try Again...\")\n",
        "      pairSelector()\n",
        "  else:\n",
        "    print(\"Error : The given Symbol doen't Exists, Try Again...\")\n",
        "    pairSelector()\n",
        "\n"
      ],
      "metadata": {
        "id": "rjf-yLcoijsK"
      },
      "execution_count": null,
      "outputs": []
    },
    {
      "cell_type": "code",
      "source": [
        "def currencyConverter():\n",
        "  print('''Currency Symbols\n",
        "  INR - Indian Rupees\n",
        "  USD - US Dollars\n",
        "  EUR - EURO\n",
        "  GBP - British Dollar\n",
        "  AUD - Austraian Dollar\n",
        "  CAD - Canadian Dollar\n",
        "  SGD - Singapore Dollars\n",
        "  ''')\n",
        "  pair = pairSelector()\n",
        "  baseVal = float(input(f'Enter the amount of {pair[0]} to be converted to {pair[1]} : '))\n",
        "  baseValINR = (1 / inr[pair[0]]) * baseVal # Converting the base value to inr\n",
        "  convertedVal = baseValINR / (1 / inr[pair[1]])\n",
        "  print(f'{pair[0]} : {baseVal} \\n{pair[1]} : {convertedVal} \\n\\nEquivalent Other Currency Values are...\\n')\n",
        "  for sym in inr:\n",
        "    if sym != pair[1]:\n",
        "      eqconvertedVal = baseValINR / (1 / inr[sym])\n",
        "      print(f'{sym} : {eqconvertedVal}')    \n",
        "    \n",
        "\n"
      ],
      "metadata": {
        "id": "MoxG4Taqnons"
      },
      "execution_count": null,
      "outputs": []
    },
    {
      "cell_type": "code",
      "source": [
        "while True:  \n",
        "  currencyConverter()\n",
        "  cont = input('\\n\\n Enter yes of no to continue... Y / N : ')\n",
        "  if cont.lower() == 'y' or cont.lower() == 'yes':\n",
        "    pass\n",
        "  else:\n",
        "    break"
      ],
      "metadata": {
        "colab": {
          "base_uri": "https://localhost:8080/"
        },
        "id": "KT4cIh1lv6_x",
        "outputId": "22ccb31a-a1c0-4a26-a60b-d0031f9b4aed"
      },
      "execution_count": null,
      "outputs": [
        {
          "name": "stdout",
          "output_type": "stream",
          "text": [
            "Currency Symbols\n",
            "  INR - Indian Rupees\n",
            "  USD - US Dollars\n",
            "  EUR - EURO\n",
            "  GBP - British Dollar\n",
            "  AUD - Austraian Dollar\n",
            "  CAD - Canadian Dollar\n",
            "  SGD - Singapore Dollars\n",
            "  \n",
            "Select the base currency from the Symbols to convert from : AUD\n",
            "Select the pair currency from the Symbols to convert to from AUD : CAD\n",
            "Your Selected Pair is AUD to CAD\n",
            "Enter the amount of AUD to be converted to CAD : 500.3\n",
            "AUD : 500.3 \n",
            "CAD : 449.5243789859659 \n",
            "\n",
            "Equivalent Other Currency Values are...\n",
            "\n",
            "INR : 26848.134223713274\n",
            "USD : 359.48481146899917\n",
            "EUR : 317.3944544837994\n",
            "GBP : 264.3763564827968\n",
            "AUD : 500.3\n",
            "SGD : 485.5606159443894\n",
            "\n",
            "\n",
            " Enter yes of no to continue... Y / N : y\n",
            "Currency Symbols\n",
            "  INR - Indian Rupees\n",
            "  USD - US Dollars\n",
            "  EUR - EURO\n",
            "  GBP - British Dollar\n",
            "  AUD - Austraian Dollar\n",
            "  CAD - Canadian Dollar\n",
            "  SGD - Singapore Dollars\n",
            "  \n",
            "Select the base currency from the Symbols to convert from : USD\n",
            "Select the pair currency from the Symbols to convert to from USD : INR\n",
            "Your Selected Pair is USD to INR\n",
            "Enter the amount of USD to be converted to INR : 5\n",
            "USD : 5.0 \n",
            "INR : 373.42515409762416 \n",
            "\n",
            "Equivalent Other Currency Values are...\n",
            "\n",
            "USD : 5.0\n",
            "EUR : 4.414573917418073\n",
            "GBP : 3.677156141902754\n",
            "AUD : 6.95856937537324\n",
            "CAD : 6.2523417491413475\n",
            "SGD : 6.75356232660003\n",
            "\n",
            "\n",
            " Enter yes of no to continue... Y / N : n\n"
          ]
        }
      ]
    }
  ]
}