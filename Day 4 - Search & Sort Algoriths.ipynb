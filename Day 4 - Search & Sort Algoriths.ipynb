{
  "nbformat": 4,
  "nbformat_minor": 0,
  "metadata": {
    "colab": {
      "name": "Search & Sort Algoriths.ipynb",
      "provenance": [],
      "collapsed_sections": []
    },
    "kernelspec": {
      "name": "python3",
      "display_name": "Python 3"
    },
    "language_info": {
      "name": "python"
    }
  },
  "cells": [
    {
      "cell_type": "markdown",
      "source": [
        "### [ 1 ] Linear Search\n",
        "---\n",
        "![linear.png](https://i.imgur.com/ARcHS9c.gif)"
      ],
      "metadata": {
        "id": "XdDZD5_BE3Vy"
      }
    },
    {
      "cell_type": "code",
      "source": [
        "import random\n",
        "\n",
        "arr = [random.randrange(1,99) for i in range(8)]"
      ],
      "metadata": {
        "id": "BJtyCl4GE2-D"
      },
      "execution_count": 1,
      "outputs": []
    },
    {
      "cell_type": "code",
      "source": [
        "def linearSearch(x, arr):\n",
        "  if x in arr:\n",
        "    for idx in range(len(arr)):\n",
        "      if arr[idx] == x:\n",
        "        print(f'Found the number {x} at the index position of {idx} in the list {arr}')\n",
        "  else:\n",
        "    print(f'The given number is not found in {arr}. Try again...')\n",
        "\n",
        "while True:\n",
        "  x = int(input(f'Enter the number to find in the list {arr} : '))\n",
        "\n",
        "  linearSearch(x, arr)\n",
        "  cont = input('Enter yes or no to continue... (Y / N) ')\n",
        "  if cont.lower() == 'y' or cont.lower() == 'yes':\n",
        "    pass\n",
        "  else:\n",
        "    break"
      ],
      "metadata": {
        "colab": {
          "base_uri": "https://localhost:8080/"
        },
        "id": "OPbRzN0bF9vD",
        "outputId": "82cac619-bd02-4104-c8c0-572511db545c"
      },
      "execution_count": null,
      "outputs": [
        {
          "name": "stdout",
          "output_type": "stream",
          "text": [
            "Enter the number to find in the list [7, 11, 16, 24, 38, 38, 47, 58] : 5\n",
            "The given number is not found in [7, 11, 16, 24, 38, 38, 47, 58]. Try again...\n",
            "Enter yes or no to continue... (Y / N) y\n",
            "Enter the number to find in the list [7, 11, 16, 24, 38, 38, 47, 58] : 7\n",
            "Found the number 7 at the index position of 0 in the list [7, 11, 16, 24, 38, 38, 47, 58]\n",
            "Enter yes or no to continue... (Y / N) y\n",
            "Enter the number to find in the list [7, 11, 16, 24, 38, 38, 47, 58] : 58\n",
            "Found the number 58 at the index position of 7 in the list [7, 11, 16, 24, 38, 38, 47, 58]\n",
            "Enter yes or no to continue... (Y / N) n\n"
          ]
        }
      ]
    },
    {
      "cell_type": "markdown",
      "source": [
        "### [ 2 ] Binary Search\n",
        "---\n",
        "In computer science, binary search, also known as half-interval search, logarithmic search, or binary chop, is a search algorithm that finds the position of a target value within a sorted array. Binary search compares the target value to the middle element of the array.\n",
        "![](https://www.codecademy.com/resources/blog/content/images/2018/10/binary-search-small.gif)"
      ],
      "metadata": {
        "id": "krHiRu4ZJj3B"
      }
    },
    {
      "cell_type": "code",
      "source": [
        "arr = list(set([random.randrange(1,99) for i in range(8)]))\n",
        "arr.sort()\n",
        "x = int(input(f'Enter the number to find in the list {arr} : '))"
      ],
      "metadata": {
        "colab": {
          "base_uri": "https://localhost:8080/"
        },
        "id": "B26bUBjQNtmB",
        "outputId": "4caa1cb4-3230-46f4-9afa-5f9cbe5ef224"
      },
      "execution_count": 72,
      "outputs": [
        {
          "name": "stdout",
          "output_type": "stream",
          "text": [
            "Enter the number to find in the list [10, 16, 22, 28, 30, 49, 61, 92] : 61\n"
          ]
        }
      ]
    },
    {
      "cell_type": "code",
      "source": [
        "pos = {}\n",
        "for idx in range(len(arr)):\n",
        "  pos[arr[idx]] = idx\n",
        "\n",
        "\n",
        "def splitter(arr):\n",
        "  # To split into the given array into two (left and right)\n",
        "  length = len(arr)\n",
        "  if length > 1:\n",
        "    left = arr[ : length//2]\n",
        "    right = arr[ length//2 : ]\n",
        "    print(f'The list is split into two \\nLeft : {left}\\nRight : {right}')\n",
        "    return [left, right]\n",
        "  else:\n",
        "    print(f'No more Splitting can be done with the array {arr}')\n",
        "    return arr\n",
        "\n",
        "def finder(x, arr):\n",
        "  print(f'Finding the number {x} in the array {arr}')\n",
        "  arrSplit = splitter(arr)\n",
        "  \n",
        "  if len(arrSplit) > 1:\n",
        "    left = arrSplit[0]\n",
        "    right = arrSplit[1]\n",
        "\n",
        "    if x <= left[-1]: \n",
        "      print(f'Selecting the Left array {left}')\n",
        "      return left\n",
        "    else: \n",
        "      print(f'Selecting the Right array {right}')\n",
        "      return right"
      ],
      "metadata": {
        "id": "QxGtrXn4N7w3"
      },
      "execution_count": 73,
      "outputs": []
    },
    {
      "cell_type": "code",
      "source": [
        "while len(arr)!=1:\n",
        "  if x in arr:\n",
        "    arr = finder(x,arr)\n",
        "    if len(arr) == 1:\n",
        "      print(f'The given number {arr[0]} is found in the array at position {pos[arr[0]]}')\n",
        "  else:\n",
        "    print(f'The given number {x} is not found in the list.')\n",
        "    break"
      ],
      "metadata": {
        "colab": {
          "base_uri": "https://localhost:8080/"
        },
        "id": "oelQXYL6eNwr",
        "outputId": "e5717d12-2511-4776-87c4-fab81c7d062b"
      },
      "execution_count": 74,
      "outputs": [
        {
          "output_type": "stream",
          "name": "stdout",
          "text": [
            "Finding the number 61 in the array [10, 16, 22, 28, 30, 49, 61, 92]\n",
            "The list is split into two \n",
            "Left : [10, 16, 22, 28]\n",
            "Right : [30, 49, 61, 92]\n",
            "Selecting the Right array [30, 49, 61, 92]\n",
            "Finding the number 61 in the array [30, 49, 61, 92]\n",
            "The list is split into two \n",
            "Left : [30, 49]\n",
            "Right : [61, 92]\n",
            "Selecting the Right array [61, 92]\n",
            "Finding the number 61 in the array [61, 92]\n",
            "The list is split into two \n",
            "Left : [61]\n",
            "Right : [92]\n",
            "Selecting the Left array [61]\n",
            "The given number 61 is found in the array at position 6\n"
          ]
        }
      ]
    },
    {
      "cell_type": "markdown",
      "source": [
        "### [ 3 ] Insertion Sort\n",
        "---\n",
        "![](https://upload.wikimedia.org/wikipedia/commons/9/9c/Insertion-sort-example.gif)"
      ],
      "metadata": {
        "id": "s7lumsb91OKL"
      }
    },
    {
      "cell_type": "code",
      "source": [
        "arr = [random.randrange(1,99) for i in range(8)]\n",
        "arr"
      ],
      "metadata": {
        "id": "S2MNDnObg39c",
        "colab": {
          "base_uri": "https://localhost:8080/"
        },
        "outputId": "caa9e155-7c25-4278-e749-7355101ab7d6"
      },
      "execution_count": 33,
      "outputs": [
        {
          "output_type": "execute_result",
          "data": {
            "text/plain": [
              "[55, 4, 6, 12, 85, 45, 39, 21]"
            ]
          },
          "metadata": {},
          "execution_count": 33
        }
      ]
    },
    {
      "cell_type": "code",
      "source": [
        "def insertionSort(arr):\n",
        "  print(f'The given Unsorted Array is {arr}')\n",
        "  for idx in range(1, len(arr)):\n",
        "\n",
        "    counter = 0\n",
        "\n",
        "    for current_idx in range(idx, -1, -1):\n",
        "      previous_idx = current_idx - 1\n",
        "      counter += 1\n",
        "\n",
        "      if previous_idx >= 0:\n",
        "\n",
        "        if arr[previous_idx] > arr[current_idx]:\n",
        "          arr[previous_idx], arr[current_idx] = arr[current_idx], arr[previous_idx] \n",
        "    \n",
        "  return arr\n",
        "\n",
        "sorted = insertionSort(arr)\n",
        "print('The sorted array using \"Insertion Sort is... \"', sorted)"
      ],
      "metadata": {
        "colab": {
          "base_uri": "https://localhost:8080/"
        },
        "id": "oJlJIZql1ght",
        "outputId": "4caf6106-6ddd-4296-a0d8-590c2c0fe123"
      },
      "execution_count": 34,
      "outputs": [
        {
          "output_type": "stream",
          "name": "stdout",
          "text": [
            "The given Unsorted Array is [55, 4, 6, 12, 85, 45, 39, 21]\n",
            "The sorted array using \"Insertion Sort is... \" [4, 6, 12, 21, 39, 45, 55, 85]\n"
          ]
        }
      ]
    },
    {
      "cell_type": "markdown",
      "source": [
        "### [ 4 ] Selection Sort\n",
        "---\n",
        "\n",
        "![](https://codepumpkin.com/wp-content/uploads/2017/10/selectionSort.gif)"
      ],
      "metadata": {
        "id": "OQ6pDPNb3lhL"
      }
    },
    {
      "cell_type": "code",
      "source": [
        "arr = [random.randrange(1,99) for n in range(8)]\n",
        "arr"
      ],
      "metadata": {
        "colab": {
          "base_uri": "https://localhost:8080/"
        },
        "id": "B1ciPGoeqaMK",
        "outputId": "b2d7d41a-af3a-4bf9-8292-c6e6a343585a"
      },
      "execution_count": 45,
      "outputs": [
        {
          "output_type": "execute_result",
          "data": {
            "text/plain": [
              "[5, 16, 80, 51, 20, 76, 48, 6]"
            ]
          },
          "metadata": {},
          "execution_count": 45
        }
      ]
    },
    {
      "cell_type": "code",
      "source": [
        "def findmin(arr):\n",
        "  idx = 0\n",
        "  for i in range(len(arr)):\n",
        "    if arr[i] < arr[idx]: idx = i\n",
        "  return idx"
      ],
      "metadata": {
        "id": "n8i4jqkVES6O"
      },
      "execution_count": 46,
      "outputs": []
    },
    {
      "cell_type": "code",
      "source": [
        "unsorted = arr\n",
        "sorted = []\n",
        "\n",
        "while len(unsorted) != 0:\n",
        "  minNum = unsorted[findmin(unsorted)]\n",
        "  sorted.append(minNum)\n",
        "  unsorted.remove(minNum)\n",
        "\n",
        "print(f'The Sorted Array using \"Selection Sort\" is... {sorted}')"
      ],
      "metadata": {
        "colab": {
          "base_uri": "https://localhost:8080/"
        },
        "id": "JzIXfYre4vGQ",
        "outputId": "fc70d724-b95e-4bd5-d657-6ff5a8f689d5"
      },
      "execution_count": 47,
      "outputs": [
        {
          "output_type": "stream",
          "name": "stdout",
          "text": [
            "The Sorted Array using \"Selection Sort\" is... [5, 6, 16, 20, 48, 51, 76, 80]\n"
          ]
        }
      ]
    }
  ]
}