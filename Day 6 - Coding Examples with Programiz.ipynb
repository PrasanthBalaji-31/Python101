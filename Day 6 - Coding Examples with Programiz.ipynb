{
 "cells": [
  {
   "cell_type": "markdown",
   "metadata": {},
   "source": [
    "### Coding Examples from https://www.programiz.com/python-programming/examples "
   ]
  },
  {
   "cell_type": "markdown",
   "metadata": {},
   "source": [
    "1. Python Program to Print all Prime Numbers in an Interval"
   ]
  },
  {
   "cell_type": "code",
   "execution_count": 9,
   "metadata": {},
   "outputs": [
    {
     "name": "stdout",
     "output_type": "stream",
     "text": [
      "[1, 2, 3, 5, 7, 11, 13, 17, 19, 23, 29]\n"
     ]
    }
   ],
   "source": [
    "span = 30\n",
    "prime = [1]\n",
    "\n",
    "for num in range(2, span+1):\n",
    "    a = []\n",
    "    b = []\n",
    "    for i in range(2, num+1):\n",
    "        # print(f'{num} % {i} = {num % i}')\n",
    "        if i == num and num % i == 0:\n",
    "            a.append(num)\n",
    "        elif num % i == 0:\n",
    "            b.append(num)\n",
    "    if len(b) == 0:\n",
    "        prime.append(num)\n",
    "\n",
    "print(prime)\n"
   ]
  },
  {
   "cell_type": "markdown",
   "metadata": {},
   "source": [
    "2. Python Program to Find the Factorial of a Number"
   ]
  },
  {
   "cell_type": "code",
   "execution_count": 47,
   "metadata": {},
   "outputs": [
    {
     "name": "stdout",
     "output_type": "stream",
     "text": [
      "3628800\n"
     ]
    }
   ],
   "source": [
    "num = 10\n",
    "fact = 1\n",
    "for i in range(1, num+1):\n",
    "    fact *= i\n",
    "print(fact)"
   ]
  },
  {
   "cell_type": "markdown",
   "metadata": {},
   "source": [
    "3. Python Program to Check Armstrong Number"
   ]
  },
  {
   "cell_type": "code",
   "execution_count": 3,
   "metadata": {},
   "outputs": [
    {
     "name": "stdout",
     "output_type": "stream",
     "text": [
      "0\n",
      "1\n",
      "153\n",
      "370\n",
      "371\n",
      "407\n"
     ]
    }
   ],
   "source": [
    "def armstrong(number):\n",
    "    number = str(number)\n",
    "    arm = sum([int(i)**3 for i in number])\n",
    "\n",
    "    if int(number) == arm: return arm\n",
    "    else: return None\n",
    "\n",
    "for i in range(5000):\n",
    "    if armstrong(i) != None:\n",
    "        print(armstrong(i))\n",
    "\n",
    "arm_list = [ armstrong(i) for i in range(50000) if armstrong(i) != None ]\n",
    "arm_list"
   ]
  },
  {
   "cell_type": "code",
   "execution_count": 22,
   "metadata": {},
   "outputs": [
    {
     "name": "stdout",
     "output_type": "stream",
     "text": [
      "[0, 1, 2, 3, 4, 5, 6, 7, 8, 9]\n"
     ]
    }
   ],
   "source": [
    "a = [ i for i in range(10) ]\n",
    "print(a)"
   ]
  },
  {
   "cell_type": "markdown",
   "metadata": {},
   "source": [
    "4. Calculator using Annonymous Functions"
   ]
  },
  {
   "cell_type": "code",
   "execution_count": 110,
   "metadata": {},
   "outputs": [
    {
     "name": "stdout",
     "output_type": "stream",
     "text": [
      "[9, 1, 20, 1.25, 1, 1, 625]\n"
     ]
    }
   ],
   "source": [
    "add = lambda a,b : a + b\n",
    "sub = lambda a,b : a - b\n",
    "mul = lambda a,b : a * b\n",
    "div = lambda a,b : a / b\n",
    "rem = lambda a,b : a % b\n",
    "mod = lambda a,b : a // b\n",
    "poww = lambda a,b : a ** b\n",
    "\n",
    "print([add(5,4),\n",
    "sub(5,4),\n",
    "mul(5,4),\n",
    "div(5,4),\n",
    "rem(5,4),\n",
    "mod(5,4),\n",
    "poww(5,4)])"
   ]
  },
  {
   "cell_type": "markdown",
   "metadata": {},
   "source": [
    "5. Python Program to Count the Number of Each Vowel"
   ]
  },
  {
   "cell_type": "code",
   "execution_count": 130,
   "metadata": {},
   "outputs": [
    {
     "name": "stdout",
     "output_type": "stream",
     "text": [
      "The given text \"The jumpling lazy fox\" has the following amount of vowels...\n",
      "a : 1\n",
      "e : 1\n",
      "i : 1\n",
      "o : 1\n",
      "u : 1\n"
     ]
    }
   ],
   "source": [
    "string = input('Enter a word or sentance : ')\n",
    "\n",
    "vowels = 'aeiou'\n",
    "\n",
    "count = { }\n",
    "\n",
    "for letter in vowels:\n",
    "    count[letter] = string.lower().count(letter)\n",
    "\n",
    "print(f'The given text \"{string}\" has the following amount of vowels...')\n",
    "for x,y in count.items():\n",
    "    print(f'{x} : {y}')"
   ]
  },
  {
   "cell_type": "markdown",
   "metadata": {},
   "source": [
    "6. Python Program to Display Fibonacci Sequence Using Recursion\n",
    "---\n",
    "The Fibonacci numbers are the numbers in the following integer sequence. 0, 1, 1, 2, 3, 5, 8, 13, 21, 34, 55, 89, 144,"
   ]
  },
  {
   "cell_type": "code",
   "execution_count": 28,
   "metadata": {},
   "outputs": [
    {
     "data": {
      "text/plain": [
       "[0, 1, 1, 2, 3, 5, 8, 13, 21, 34, 55, 89]"
      ]
     },
     "execution_count": 28,
     "metadata": {},
     "output_type": "execute_result"
    }
   ],
   "source": [
    "fib = [0,1]\n",
    "\n",
    "for i in range(10):\n",
    "    z = sum(fib[ len(fib) - 2 : ])\n",
    "    fib.append(z)\n",
    "\n",
    "fib\n"
   ]
  }
 ],
 "metadata": {
  "interpreter": {
   "hash": "b89b5cfaba6639976dc87ff2fec6d58faec662063367e2c229c520fe71072417"
  },
  "kernelspec": {
   "display_name": "Python 3.10.1 64-bit",
   "language": "python",
   "name": "python3"
  },
  "language_info": {
   "codemirror_mode": {
    "name": "ipython",
    "version": 3
   },
   "file_extension": ".py",
   "mimetype": "text/x-python",
   "name": "python",
   "nbconvert_exporter": "python",
   "pygments_lexer": "ipython3",
   "version": "3.10.1"
  },
  "orig_nbformat": 4
 },
 "nbformat": 4,
 "nbformat_minor": 2
}
